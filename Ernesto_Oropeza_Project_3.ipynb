{
 "cells": [
  {
   "cell_type": "markdown",
   "metadata": {},
   "source": [
    "# Project 3 - W205 - Full Pipeline \n",
    "## Ernesto Oropeza"
   ]
  },
  {
   "cell_type": "markdown",
   "metadata": {},
   "source": [
    "## Summary\n",
    "\n",
    "A complete pipeline is designed to stream data from a Game Aplication in a Docker container. The API server code consists on three actions: purchase weapons, create guilds and join existing guilds. As data is streaming each action is filter individually according to the type of event and written to hadoop. Then Hive and presto are used to query the data. A script designed to reandomly produce the game application output is used to test the pipeline. Sql queries from Presto show the effectiveness of the created pipeline. Different commands are executed simultaneausly on different terminals (Highlighted before each command line). "
   ]
  },
  {
   "cell_type": "markdown",
   "metadata": {},
   "source": [
    "## Files Submitted"
   ]
  },
  {
   "cell_type": "markdown",
   "metadata": {},
   "source": [
    "1. Ernesto_Oropeza_Project_3.ipynb (This Report)\n",
    "1. game_p3_api.py\n",
    "2. docker-compose.yml\n",
    "3. stream_write_p3.py\n",
    "4. random_event_generator.sh"
   ]
  },
  {
   "cell_type": "markdown",
   "metadata": {},
   "source": [
    "## Full Pipeline Description"
   ]
  },
  {
   "cell_type": "markdown",
   "metadata": {},
   "source": [
    "### 1. Set Up"
   ]
  },
  {
   "cell_type": "markdown",
   "metadata": {},
   "source": [
    "**Terminal 1**\n",
    "> docker-compose.yml"
   ]
  },
  {
   "cell_type": "markdown",
   "metadata": {},
   "source": [
    "### 2. Spin up The container"
   ]
  },
  {
   "cell_type": "markdown",
   "metadata": {},
   "source": [
    "**Terminal 1**\n",
    "   > docker-compose up -d\n",
    "   \n",
    "Output:\n",
    "\n",
    "Creating network \"project3oropezaev_default\" with the default driver\\\n",
    "Creating project3oropezaev_zookeeper_1\\\n",
    "Creating project3oropezaev_presto_1\\\n",
    "Creating project3oropezaev_cloudera_1\\\n",
    "Creating project3oropezaev_mids_1\\\n",
    "Creating project3oropezaev_spark_1\\\n",
    "Creating project3oropezaev_kafka_1\n",
    "\n",
    "The command to verify that all containers are spin up is:\n",
    "  > docker-compose ps\n",
    "\n",
    "output:\n",
    "\n",
    "|            Name               |               Command           |        State             |                   Ports                                              | \n",
    "|-----------------------------  |-----------------------------    |--------------------------|-----------------------------------------------------                 |\n",
    "|project3oropezaev_cloudera_1   | /usr/bin/docker-entrypoint ...  | Up                       |     10000/tcp, 50070/tcp, 8020/tcp, 0.0.0.0:8888->8888/tcp, 9083/tcp |\n",
    "|project3oropezaev_kafka_1      | /etc/confluent/docker/run       | Up                       |     29092/tcp, 9092/tcp                                              |\n",
    "|project3oropezaev_mids_1       | /bin/bash                       | Up                       |     0.0.0.0:5000->5000/tcp, 8888/tcp                                 |\n",
    "|project3oropezaev_presto_1     | /usr/bin/docker-entrypoint ...  | Up                       |     8080/tcp                                                         |\n",
    "|project3oropezaev_spark_1      | docker-entrypoint.sh bash       | Up                       |     8888/tcp                                                         |\n",
    "|project3oropezaev_zookeeper_1  | /etc/confluent/docker/run       | Up                       |     2181/tcp, 2888/tcp, 32181/tcp, 3888/tcp                          |"
   ]
  },
  {
   "cell_type": "markdown",
   "metadata": {},
   "source": [
    "### 3. Create Kafka Topic and Monitoring Events"
   ]
  },
  {
   "cell_type": "markdown",
   "metadata": {},
   "source": [
    "The events that are produced are consumed in Kafka in a created topic named ***events*** as follows:\\\n",
    "**Terminal 1**\\\n",
    "Command:\n",
    "  > docker-compose exec kafka kafka-topics --create --topic events --partitions 1 --replication-factor 1 --if-not-exists --zookeeper zookeeper:32181\n",
    "\n",
    "Output:\\\n",
    "Created topic events.\n",
    "\n",
    "To monitor the events produced to Kafka, the following command is used to check it:\\\n",
    "Command:\n",
    "  > docker-compose exec mids kafkacat -C -b kafka:29092 -t events -o beginning\n",
    "\n",
    "Output (For the very first event produced):\\\n",
    "{\"event_type\": \"purchase\", \"Accept\": \"*/*\", \"User-Agent\": \"ApacheBench/2.3\", \"item_purchased\": \"sword\", \"Host\": \"user4.comcast.com\", \"type\": \"samurai\"}\n"
   ]
  },
  {
   "cell_type": "markdown",
   "metadata": {},
   "source": [
    "### 4. Game API\n",
    "\n",
    "The code for the game aplication is included in the file ***game_p3_api.py***.\n",
    "The user is allowed to create three events:\n",
    "  * Purchase a Weapon\n",
    "  * Create a Guild\n",
    "  * Join an existing Guild\n",
    "  \n",
    "The actions are very open so the application can extend the options freely. To purchase a weapon the name and type of the weapon needs to be especified AS FOLLOWS:\n",
    "  * /purchase/***WEAPON_NAME***/***TYPE_OF_WEAPON***\n",
    "\n",
    "For example, to purchase a Samurai Sword the option would be as follows: ***http://localhost:5000/purchase/sword/samurai***.\n",
    "Here the only fixed option is ***purchaese***, the weapon and type if user defined. \n",
    "\n",
    "To to create a guild, the following structure is required: the inquiry is as follows:\n",
    "  * /creat_guild/***NAME OF THE GUILD***\n",
    "  \n",
    "For example, to create a guild named Barbarians the option would be: ***http://localhost:5000/create_guild/barbarians***.\n",
    "Here the only fixed option is ***create_guild***. The name is user defined. The application would have to verify that the name is available.\n",
    "\n",
    "To join a guild, the procedure the option is similar than for creating one:\n",
    "  * /join_guild/***NAME OF THE GUILD***\n",
    "\n",
    "For example, to join the created guild Barbarians the option would be: ***http://localhost:5000/join_guild/barbarians***.\n",
    "Here the only fixed option is ***join_guild***. Again the name is optional and the application would have to verify the availability and protocol for joining the guild.\n",
    "\n",
    "There is a default response for all the posibilities (e.g missing somthing required like name Guild Name). In these cases response is created but no action is taken. \n"
   ]
  },
  {
   "cell_type": "markdown",
   "metadata": {},
   "source": [
    "### 5. Running API in FLASK"
   ]
  },
  {
   "cell_type": "markdown",
   "metadata": {},
   "source": [
    "The code ***game_p3_api.py*** is run using FLASK.\\\n",
    "**Terminal 2**\\\n",
    "Command:\n",
    "  > docker-compose exec mids env FLASK_APP=/w205/project-3-oropezaev/game_p3_api.py flask run --host 0.0.0.0\n",
    "  \n",
    "Output (For the very first event produced):\\\n",
    "Starting events\n",
    "  * Serving Flask app \"game_p3_api\"\n",
    "  * Running on http://0.0.0.0:5000/ (Press CTRL+C to quit)\\\n",
    "\n",
    "127.0.0.1 - - [11/Apr/2020 23:58:42] \"GET /purchase/sword/samurai HTTP/1.0\" 200 -  "
   ]
  },
  {
   "cell_type": "markdown",
   "metadata": {},
   "source": [
    "### 6. Streamin, Filtering and Writing Code "
   ]
  },
  {
   "cell_type": "markdown",
   "metadata": {},
   "source": [
    "#### Pseudo-code\n",
    "The code in ***stream_write_p3.py*** (See details in the .py file) is used to read the events from Kafka, filter the data and write the output to Hadoop.\\\n",
    "A pseudo code would be as follows:\\\n",
    "\n",
    "1. Read the events from Kafka in streaming mode\n",
    "\n",
    "3. Raw events are with the respective outpur from ***action*** create the filter events: purchase_events, create_events and join_events.\n",
    "  * Define function ***action*** to filter the raw events\n",
    "  * Each event has an event type: purchase, create_guild and join_guild. This function return an integer 0, 1 or 2 respectively labeling the event to proceed accordingly\n",
    "3. Write the events in HDFS in three different folders:\\\n",
    "  * /tmp/purchases\n",
    "  * /tmp/create\n",
    "  * /tmp/join\n",
    "  * There are 2 different schemas for purchase and guilds (create and join)\n",
    "4. Await for user termination\n",
    "\n",
    "#### Running Streming Code\n",
    "\n",
    "**Terminal 3**\\\n",
    "Command:\\\n",
    "  > docker-compose exec spark spark-submit /w205/project-3-oropezaev/stream_write_p3.py\n",
    "\n",
    "Output (Not included - Very Large Display).\n",
    "\n",
    "#### Checking HDFS\n",
    "To check the data that is written in the above floder the following command can be used:\\\n",
    "**Terminal 7**\\\n",
    "Command:\n",
    "  > docker-compose exec cloudera hadoop fs -ls /tmp/\n",
    "  \n",
    "Output:\n",
    "\n",
    "Found 9 items\n",
    "drwxrwxrwt   - root   supergroup          0 2020-04-11 23:58 /tmp/checkpoints_for_create\\\n",
    "drwxrwxrwt   - root   supergroup          0 2020-04-11 23:58 /tmp/checkpoints_for_join\\\n",
    "drwxrwxrwt   - root   supergroup          0 2020-04-11 23:58 /tmp/checkpoints_for_purchases\\\n",
    "drwxr-xr-x   - root   supergroup          0 2020-04-12 01:52 /tmp/create\\\n",
    "drwxrwxrwt   - mapred mapred              0 2016-04-06 02:26 /tmp/hadoop-yarn\\\n",
    "drwx-wx-wx   - hive   supergroup          0 2020-04-12 01:32 /tmp/hive\\\n",
    "drwxr-xr-x   - root   supergroup          0 2020-04-12 01:52 /tmp/join\\\n",
    "drwxrwxrwt   - mapred hadoop              0 2016-04-06 02:28 /tmp/logs\\\n",
    "drwxr-xr-x   - root   supergroup          0 2020-04-12 01:52 /tmp/purchases"
   ]
  },
  {
   "cell_type": "markdown",
   "metadata": {},
   "source": [
    "### 7. Creating Testing Events "
   ]
  },
  {
   "cell_type": "markdown",
   "metadata": {},
   "source": [
    "The data is simulated by building Apache Bench commands randomly among 10 different users, 4 weapons, 4 weapon types and 10 guilds. Incomplete commands are also included to test the response. The following script details the data generation included in the file ***random_event_generator.sh*** "
   ]
  },
  {
   "cell_type": "markdown",
   "metadata": {},
   "source": [
    "#!/bin/bash\n",
    "\n",
    "var1='docker-compose exec mids ab -n 1 -H \"Host: '\n",
    "\n",
    "var2='\" http://localhost:5000/'\n",
    "\n",
    "var3=\"purchase\"\n",
    "\n",
    "var4=\"create_guild\"\n",
    "\n",
    "var5=\"join_guild\"\n",
    "\n",
    "sl=\"/\"\n",
    "\n",
    "users=(user1@gmail.com user2@yahoo.com user3@hotmail.com user4@aol.com user5@comcast.com user6@att.com user7@tmobil.com user8@dell.com user9@tmb.com user10@xto.com)\n",
    "\n",
    "weapons=(sword spear axe hammer)\n",
    "\n",
    "chara=(light heavy large medium)\n",
    "\n",
    "guild=(bandits warriors rangers knights farmers assesins spies spartans army sailors)\n",
    "\n",
    "while true; do\n",
    "\n",
    "        #Dummy1\n",
    "        ru=$(($RANDOM%10))\n",
    "        eval $var1${users[ru]}$var2\n",
    "        \n",
    "        #Dummy2\n",
    "        ru=$(($RANDOM%10))\n",
    "        eval $var1${users[ru]}$var2$var3\n",
    "        \n",
    "        #Dummy3\n",
    "        ru=$(($RANDOM%10))\n",
    "        rw=$(($RANDOM%4))\n",
    "        eval $var1${users[ru]}$var2$var3$sl${weapons[rw]}\n",
    "        \n",
    "        #Purchase\n",
    "        ru=$(($RANDOM%10))\n",
    "        rw=$(($RANDOM%4))\n",
    "        rc=$(($RANDOM%4))\n",
    "        eval $var1${users[ru]}$var2$var3$sl${weapons[rw]}$sl${chara[rc]}\n",
    "        \n",
    "        #Dummy4\n",
    "        ru=$(($RANDOM%10))\n",
    "        eval $var1${users[ru]}$var2$var4\n",
    "        \n",
    "        #create\n",
    "        ru=$(($RANDOM%10))\n",
    "        rg=$(($RANDOM%10))\n",
    "        eval $var1${users[ru]}$var2$var4$sl${guild[rg]}\n",
    "        \n",
    "        #Dummy5\n",
    "        ru=$(($RANDOM%10))\n",
    "        eval $var1${users[ru]}$var2$var5\n",
    "        \n",
    "        #create\n",
    "        ru=$(($RANDOM%10))\n",
    "        rg=$(($RANDOM%10))\n",
    "        eval $var1${users[ru]}$var2$var5$sl${guild[rg]}\n",
    "\n",
    "        sleep 10\n",
    "done\n",
    "\n",
    "**Terminal 4**\\\n",
    "Command:\\\n",
    "./random_event_generator.sh"
   ]
  },
  {
   "cell_type": "markdown",
   "metadata": {},
   "source": [
    "Note that the only events that are going to produce information to write in the output are:\\\n",
    "  - docker-compose exec mids ab -n 1 -H \"Host: user4.comcast.com\" http://localhost:5000/purchase/sword/samurai \\\n",
    "  - docker-compose exec mids ab -n 1 -H \"Host: user6.comcast.com\" http://localhost:5000/join_guild/Barbarians \\\n",
    "  - docker-compose exec mids ab -n 1 -H \"Host: user8.comcast.com\" http://localhost:5000/create_guild/Cacique\n",
    "  \n",
    "This creates continuosly the above events until the program is terminated."
   ]
  },
  {
   "cell_type": "markdown",
   "metadata": {},
   "source": [
    "### 8. Querying Data"
   ]
  },
  {
   "cell_type": "markdown",
   "metadata": {},
   "source": [
    "\n",
    "#### Hive\n",
    "To use update the data while straming Hive is run in  the hadoop container as follows:\\\n",
    "\n",
    "**Terminal 5**\\\n",
    "Command:\\\n",
    "  > docker-compose exec cloudera hive\n",
    "  \n",
    "Output:\\\n",
    "2020-04-12 01:32:06,598 WARN  [main] mapreduce.TableMapReduceUtil: The hbase-prefix-tree module jar containing PrefixTreeCodec is not present.  Continuing without it.\n",
    "\n",
    "Logging initialized using configuration in file:/etc/hive/conf.dist/hive-log4j.properties\n",
    "WARNING: Hive CLI is deprecated and migration to Beeline is recommended.\n",
    "hive>\n",
    "\n",
    "Once the hive is running three different tables are created:\\\n",
    "  * purchase_table\n",
    "  * create_table\n",
    "  * join_table\n",
    "  \n",
    "Tese table contain the respective (filtered) events.  The following commands are used to creat the tables respectively:\\\n",
    "\n",
    "  > create external table if not exists default.purchases_table (timestamp string, Accept string, Host string, User_Agent string, event_type string, item_purchased string, type string) stored as parquet location '/tmp/purchases'  tblproperties (\"parquet.compress\"=\"SNAPPY\");\n",
    "  \n",
    "  > create external table if not exists default.create_table (timestamp string, Accept string, Host string, User_Agent string, event_type string, guild_name string) stored as parquet location '/tmp/create'  tblproperties (\"parquet.compress\"=\"SNAPPY\");\n",
    "  \n",
    "  > create external table if not exists default.join_table (timestamp string, Accept string, Host string, User_Agent string, event_type string, guild_name string) stored as parquet location '/tmp/join'  tblproperties (\"parquet.compress\"=\"SNAPPY\");\n",
    "  \n",
    "#### Presto\n",
    "The data is quered in Presto. Once the tables are created, Presto is run by:\\\n",
    "**Terminal 6**\\\n",
    "Command:\n",
    "  > docker-compose exec presto presto --server presto:8080 --catalog hive --schema default\n",
    "\n",
    "Output:\\\n",
    "presto:default>"
   ]
  },
  {
   "cell_type": "markdown",
   "metadata": {},
   "source": [
    "Once in Presto different commands are use with the propose of extract the required information.  First a couple of commands are run to check the data schema and the available tables.\n",
    "\n",
    "#### Displaying table list\n",
    "Command:\\\n",
    "presto:default> show tables;\n",
    "\n",
    "Output:\\\n",
    "  create_table\\\n",
    "  join_table  \n",
    "  purchase_table\\\n",
    "  (3 rows)\n",
    "\n",
    "Query 20200411_184234_00005_6aanw, FINISHED, 1 node\\\n",
    "Splits: 2 total, 0 done (0.00%)\\\n",
    "0:00 [0 rows, 0B] [0 rows/s, 0B/s]"
   ]
  },
  {
   "cell_type": "markdown",
   "metadata": {},
   "source": [
    "#### Table Schema\n",
    "presto:default> describe purchase_table;\n",
    "\n",
    "|    Column     |  Type   | Comment \n",
    "|----------------|---------|---------\n",
    " timestamp      | varchar |         \n",
    " accept         | varchar |         \n",
    " host           | varchar |         \n",
    " user-agent     | varchar |         \n",
    " event_type     | varchar |         \n",
    " item_purchased | varchar |         \n",
    " type           | varchar |         \n",
    "(7 rows)||\n",
    "\n",
    "Query 20200411_184346_00006_6aanw, FINISHED, 1 node\\\n",
    "Splits: 2 total, 0 done (0.00%)\\\n",
    "0:02 [0 rows, 0B] [0 rows/s, 0B/s]"
   ]
  },
  {
   "cell_type": "markdown",
   "metadata": {},
   "source": [
    "#### Querying Data\n",
    "#### 1. Chequing Data Streaming \n",
    "The first query in this part show the created empty table, before streaming data. The secon query is the repetition of the first few minutes later. It shows 16 new purchases made in this time lapse.\n",
    "\n",
    "\n",
    "presto:default> ***select *  from purchases_table;***\n",
    "\n",
    "| timestamp | accept | host | user_agent | event_type | item_purchased | type \n",
    "|-----------|--------|------|------------|------------|----------------|------\n",
    "\n",
    "(0 rows)\n",
    "\n",
    "Query 20200412_160943_00004_xf4bz, FINISHED, 1 node\\\n",
    "Splits: 1 total, 0 done (0.00%)\\\n",
    "0:04 [0 rows, 0B] [0 rows/s, 0B/s]\n",
    "\n",
    "\n",
    "presto:default> ***select * from purchases_table;***\n",
    "\n",
    "|        timestamp        | accept |       host        |   user_agent    | event_type | item_purchased |  type  \n",
    "|-------------------------|--------|-------------------|-----------------|------------|----------------|--------\n",
    " 2020-04-12 16:20:24.926 | \\*/\\*    | user4@aol.com     | ApacheBench/2.3 | purchase   | spear          | light  \n",
    " 2020-04-12 16:14:24.595 | \\*/\\*    | user3@hotmail.com | ApacheBench/2.3 | purchase   | spear          | large  \n",
    " 2020-04-12 16:14:43.235 | \\*/\\*    | user3@hotmail.com | ApacheBench/2.3 | purchase   | hammer         | large  \n",
    " 2020-04-12 16:15:00.933 | \\*/\\*    | user10@xto.com    | ApacheBench/2.3 | purchase   | sword          | medium \n",
    " 2020-04-12 16:15:20.934 | \\*/\\*    | user7@tmobil.com  | ApacheBench/2.3 | purchase   | sword          | light  \n",
    " 2020-04-12 16:15:37.857 | \\*/\\*    | user8@dell.com    | ApacheBench/2.3 | purchase   | spear          | large  \n",
    " 2020-04-12 16:21:56.021 | \\*/\\*    | user8@dell.com    | ApacheBench/2.3 | purchase   | spear          | light  \n",
    " 2020-04-12 16:18:39.573 | \\*/\\*    | user2@yahoo.com   | ApacheBench/2.3 | purchase   | spear          | light  \n",
    " 2020-04-12 16:17:27.304 | \\*/\\*    | user2@yahoo.com   | ApacheBench/2.3 | purchase   | sword          | medium \n",
    " 2020-04-12 16:16:07.094 | \\*/\\*    | user4@aol.com     | ApacheBench/2.3 | purchase   | sword          | large  \n",
    " 2020-04-12 16:16:29.424 | \\*/\\*    | user1@gmail.com   | ApacheBench/2.3 | purchase   | sword          | large  \n",
    " 2020-04-12 16:16:47.898 | \\*/\\*    | user7@tmobil.com  | ApacheBench/2.3 | purchase   | hammer         | heavy  \n",
    " 2020-04-12 16:23:48.296 | \\*/\\*    | user5@comcast.com | ApacheBench/2.3 | purchase   | hammer         | light  \n",
    "\n",
    "(13 rows)\n",
    "\n",
    "Query 20200412_163948_00011_xf4bz, FINISHED, 1 node\\\n",
    "Splits: 15 total, 10 done (66.67%)\\\n",
    "0:03 [9 rows, 10.7KB] [3 rows/s, 3.98KB/s]"
   ]
  },
  {
   "cell_type": "markdown",
   "metadata": {},
   "source": [
    "#### 2. Most popular weapons \n",
    "\n",
    "presto:default> ***select item_purchased, count(***\\****) as amount_purchased from purchases_table group by item_purchased order by amount_purchased desc;***\n",
    "\n",
    "|item_purchased | amount_purchased \n",
    "|----------------|------------------\n",
    " hammer         |               23 \n",
    " sword          |               22 \n",
    " spear          |               19 \n",
    " axe            |               17 \n",
    "\n",
    "(4 rows)\n",
    "\n",
    "Query 20200412_174128_00008_2uqu9, FINISHED, 1 node\\\n",
    "Splits: 26 total, 20 done (76.92%)\\\n",
    "0:01 [65 rows, 36.8KB] [57 rows/s, 32.5KB/s]"
   ]
  },
  {
   "cell_type": "markdown",
   "metadata": {},
   "source": [
    "#### 3. Most popular weapons with type \n",
    "\n",
    "presto:default> ***select specific_weapon, count(***\\****) as amount_purchased from (select concat(item_purchased,'-',type) as specific_weapon from purchases_table) group by specific_weapon order by amount_purchased desc;***\n",
    " \n",
    "| specific_weapon | amount_purchased \n",
    "|-----------------|------------------\n",
    " axe-light       |               11 \n",
    " sword-heavy     |               10 \n",
    " hammer-light    |                9 \n",
    " axe-large       |                9 \n",
    " hammer-heavy    |                9 \n",
    " spear-large     |                8 \n",
    " spear-light     |                8 \n",
    " sword-light     |                8 \n",
    " sword-large     |                7 \n",
    " sword-medium    |                7 \n",
    " spear-heavy     |                7 \n",
    " spear-medium    |                6 \n",
    " hammer-medium   |                6 \n",
    " hammer-large    |                6 \n",
    " axe-medium      |                6 \n",
    " axe-heavy       |                3 \n",
    "\n",
    "(16 rows)\n",
    "\n",
    "Query 20200412_175229_00013_2uqu9, FINISHED, 1 node\\\n",
    "Splits: 37 total, 33 done (89.19%)\\\n",
    "0:02 [109 rows, 60.2KB] [57 rows/s, 31.7KB/s]"
   ]
  },
  {
   "cell_type": "markdown",
   "metadata": {},
   "source": [
    "#### 4. User and Guild Created \n",
    "\n",
    "presto:default> ***select host, count(***\\****) as no_guild_created from create_table group by host order by no_guild_created desc;***\n",
    "\n",
    "|       host        | no_guild_created \n",
    "|-------------------|------------------\n",
    " user3@hotmail.com |               17 \n",
    " user7@tmobil.com  |               16 \n",
    " user10@xto.com    |               15 \n",
    " user6@att.com     |               14 \n",
    " user2@yahoo.com   |               13 \n",
    " user1@gmail.com   |               12 \n",
    " user9@tmb.com     |               12 \n",
    " user5@comcast.com |               12 \n",
    " user4@aol.com     |               11 \n",
    " user8@dell.com    |                9 \n",
    "\n",
    "(10 rows)\n",
    "\n",
    "Query 20200412_175550_00016_2uqu9, FINISHED, 1 node\\\n",
    "Splits: 40 total, 29 done (72.50%)\\\n",
    "0:02 [102 rows, 50.6KB] [46 rows/s, 22.9KB/s]"
   ]
  },
  {
   "cell_type": "markdown",
   "metadata": {},
   "source": [
    "#### 5. Popular Guild (Users Joined) \n",
    "\n",
    "presto:default> ***select guild_name, count(***\\****) as no_join_request from join_table group by guild_name order by no_join_request desc;***\n",
    "\n",
    "| guild_name | no_join_request \n",
    "|------------|-----------------\n",
    " spies      |              21 \n",
    " warriors   |              17 \n",
    " assesins   |              17 \n",
    " sailors    |              16 \n",
    " farmers    |              14 \n",
    " army       |              14 \n",
    " spartans   |              12 \n",
    " bandits    |              10 \n",
    " knights    |              10 \n",
    " rangers    |              10 \n",
    "\n",
    "(10 rows)\n",
    "\n",
    "Query 20200412_175801_00018_2uqu9, FINISHED, 1 node\\\n",
    "Splits: 43 total, 38 done (88.37%)\\\n",
    "0:02 [129 rows, 64KB] [61 rows/s, 30.3KB/s]"
   ]
  },
  {
   "cell_type": "markdown",
   "metadata": {},
   "source": [
    "#### 6. Final tables size (before stop streaming)\n",
    "\n",
    "presto:default> ***select count(***\\****) as no_purchases from purchases_table;***\n",
    "\n",
    "| no_purchases \n",
    "|--------------\n",
    "          149 \n",
    "\n",
    "(1 row)\n",
    "\n",
    "Query 20200412_180046_00024_2uqu9, FINISHED, 1 node\\\n",
    "Splits: 44 total, 42 done (95.45%)\\\n",
    "0:03 [149 rows, 81.6KB] [46 rows/s, 25.4KB/s]"
   ]
  },
  {
   "cell_type": "markdown",
   "metadata": {},
   "source": [
    "presto:default> ***select count(***\\****) as no_guild_created from create_table;***\n",
    "\n",
    "|no_guild_created \n",
    "|------------------\n",
    "              152 \n",
    "\n",
    "(1 row)\n",
    "\n",
    "Query 20200412_180127_00025_2uqu9, FINISHED, 1 node\\\n",
    "Splits: 45 total, 39 done (86.67%)\\\n",
    "0:02 [138 rows, 68.1KB] [90 rows/s, 44.7KB/s]"
   ]
  },
  {
   "cell_type": "markdown",
   "metadata": {},
   "source": [
    "presto:default> ***select count(***\\****) as no_guild_join_request from join_table;***\n",
    "\n",
    "| no_guild_join_request \n",
    "|-----------------------\n",
    "                   156 \n",
    "\n",
    "(1 row)\n",
    "\n",
    "Query 20200412_180215_00026_2uqu9, FINISHED, 1 node\\\n",
    "Splits: 46 total, 35 done (76.09%)\\\n",
    "0:02 [123 rows, 60.6KB] [54 rows/s, 27KB/s]"
   ]
  }
 ],
 "metadata": {
  "kernelspec": {
   "display_name": "Python 3",
   "language": "python",
   "name": "python3"
  },
  "language_info": {
   "codemirror_mode": {
    "name": "ipython",
    "version": 3
   },
   "file_extension": ".py",
   "mimetype": "text/x-python",
   "name": "python",
   "nbconvert_exporter": "python",
   "pygments_lexer": "ipython3",
   "version": "3.5.3"
  }
 },
 "nbformat": 4,
 "nbformat_minor": 4
}
